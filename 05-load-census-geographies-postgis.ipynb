{
 "cells": [
  {
   "cell_type": "code",
   "execution_count": null,
   "metadata": {},
   "outputs": [],
   "source": [
    "# https://skyvia.com/gallery/inserting-multiple-rows-in-a-single-postgresql-query"
   ]
  },
  {
   "cell_type": "code",
   "execution_count": 1,
   "metadata": {},
   "outputs": [],
   "source": [
    "import geopandas as gpd\n",
    "import os\n",
    "import psycopg2\n",
    "from shapely.wkt import loads as wkt_loads\n",
    "\n",
    "from keys import pg_user, pg_pass, pg_host, pg_port, pg_db, pg_table\n",
    "\n",
    "%matplotlib inline\n",
    "\n",
    "# census data is in 4269, so project each to 4326 to match footprints\n",
    "srid = 4326 #ms building footprints srid\n",
    "crs = {'init':'epsg:4326'} #ms building footprints crs"
   ]
  },
  {
   "cell_type": "code",
   "execution_count": 2,
   "metadata": {},
   "outputs": [],
   "source": [
    "connection = psycopg2.connect(database=pg_db,\n",
    "                              user=pg_user,\n",
    "                              password=pg_pass,\n",
    "                              host=pg_host,\n",
    "                              port=pg_port)\n",
    "connection.set_session(autocommit=True)\n",
    "cursor = connection.cursor()"
   ]
  },
  {
   "cell_type": "markdown",
   "metadata": {},
   "source": [
    "## States"
   ]
  },
  {
   "cell_type": "code",
   "execution_count": 3,
   "metadata": {},
   "outputs": [
    {
     "data": {
      "text/html": [
       "<div>\n",
       "<style scoped>\n",
       "    .dataframe tbody tr th:only-of-type {\n",
       "        vertical-align: middle;\n",
       "    }\n",
       "\n",
       "    .dataframe tbody tr th {\n",
       "        vertical-align: top;\n",
       "    }\n",
       "\n",
       "    .dataframe thead th {\n",
       "        text-align: right;\n",
       "    }\n",
       "</style>\n",
       "<table border=\"1\" class=\"dataframe\">\n",
       "  <thead>\n",
       "    <tr style=\"text-align: right;\">\n",
       "      <th></th>\n",
       "      <th>STATEFP</th>\n",
       "      <th>STATENS</th>\n",
       "      <th>AFFGEOID</th>\n",
       "      <th>GEOID</th>\n",
       "      <th>STUSPS</th>\n",
       "      <th>NAME</th>\n",
       "      <th>LSAD</th>\n",
       "      <th>ALAND</th>\n",
       "      <th>AWATER</th>\n",
       "      <th>geometry</th>\n",
       "    </tr>\n",
       "  </thead>\n",
       "  <tbody>\n",
       "    <tr>\n",
       "      <th>0</th>\n",
       "      <td>02</td>\n",
       "      <td>01785533</td>\n",
       "      <td>0400000US02</td>\n",
       "      <td>02</td>\n",
       "      <td>AK</td>\n",
       "      <td>Alaska</td>\n",
       "      <td>00</td>\n",
       "      <td>1478588231566</td>\n",
       "      <td>277723861311</td>\n",
       "      <td>(POLYGON ((-173.074642 60.704657, -172.912636 ...</td>\n",
       "    </tr>\n",
       "    <tr>\n",
       "      <th>1</th>\n",
       "      <td>06</td>\n",
       "      <td>01779778</td>\n",
       "      <td>0400000US06</td>\n",
       "      <td>06</td>\n",
       "      <td>CA</td>\n",
       "      <td>California</td>\n",
       "      <td>00</td>\n",
       "      <td>403483182192</td>\n",
       "      <td>20484637928</td>\n",
       "      <td>(POLYGON ((-118.593969 33.467198, -118.484785 ...</td>\n",
       "    </tr>\n",
       "    <tr>\n",
       "      <th>2</th>\n",
       "      <td>08</td>\n",
       "      <td>01779779</td>\n",
       "      <td>0400000US08</td>\n",
       "      <td>08</td>\n",
       "      <td>CO</td>\n",
       "      <td>Colorado</td>\n",
       "      <td>00</td>\n",
       "      <td>268425964573</td>\n",
       "      <td>1178495763</td>\n",
       "      <td>POLYGON ((-109.059962 38.499987, -109.05996197...</td>\n",
       "    </tr>\n",
       "  </tbody>\n",
       "</table>\n",
       "</div>"
      ],
      "text/plain": [
       "  STATEFP   STATENS     AFFGEOID GEOID STUSPS        NAME LSAD          ALAND  \\\n",
       "0      02  01785533  0400000US02    02     AK      Alaska   00  1478588231566   \n",
       "1      06  01779778  0400000US06    06     CA  California   00   403483182192   \n",
       "2      08  01779779  0400000US08    08     CO    Colorado   00   268425964573   \n",
       "\n",
       "         AWATER                                           geometry  \n",
       "0  277723861311  (POLYGON ((-173.074642 60.704657, -172.912636 ...  \n",
       "1   20484637928  (POLYGON ((-118.593969 33.467198, -118.484785 ...  \n",
       "2    1178495763  POLYGON ((-109.059962 38.499987, -109.05996197...  "
      ]
     },
     "execution_count": 3,
     "metadata": {},
     "output_type": "execute_result"
    }
   ],
   "source": [
    "gdf = gpd.read_file('data/states')\n",
    "gdf = gdf.to_crs(crs)\n",
    "gdf.head(3)"
   ]
  },
  {
   "cell_type": "code",
   "execution_count": 4,
   "metadata": {},
   "outputs": [],
   "source": [
    "# drop states table if it already exists, then create states table\n",
    "query = \"\"\"\n",
    "DROP TABLE IF EXISTS states;\n",
    "CREATE TABLE states (id SERIAL PRIMARY KEY,\n",
    "                     geoid VARCHAR NOT NULL,\n",
    "                     stusps VARCHAR NOT NULL,\n",
    "                     aland BIGINT NOT NULL);\n",
    "SELECT AddGeometryColumn ('states', 'geom', %s, 'MULTIPOLYGON', 2);\n",
    "CREATE INDEX state_index ON states USING GIST(geom);\n",
    "\"\"\"\n",
    "data = [srid]\n",
    "cursor.execute(query, data)"
   ]
  },
  {
   "cell_type": "code",
   "execution_count": 5,
   "metadata": {},
   "outputs": [
    {
     "name": "stdout",
     "output_type": "stream",
     "text": [
      "Wall time: 85.9 ms\n"
     ]
    }
   ],
   "source": [
    "%%time\n",
    "cursor.execute(\"DELETE FROM states\")\n",
    "\n",
    "# insert each state into the states table one at a time\n",
    "for label, row in gdf.iterrows():\n",
    "    geoid = row['GEOID']\n",
    "    stusps = row['STUSPS']\n",
    "    aland = row['ALAND']\n",
    "    geometry_wkt = row['geometry'].wkt\n",
    "    \n",
    "    query = \"\"\"INSERT INTO states (geoid, stusps, aland, geom) \n",
    "               VALUES (%s, %s, %s, ST_Multi(ST_GeomFromText(%s, %s)))\"\"\"\n",
    "    data = (geoid, stusps, aland, geometry_wkt, srid)\n",
    "    cursor.execute(query, data)"
   ]
  },
  {
   "cell_type": "code",
   "execution_count": 6,
   "metadata": {},
   "outputs": [
    {
     "name": "stdout",
     "output_type": "stream",
     "text": [
      "Wall time: 134 ms\n"
     ]
    }
   ],
   "source": [
    "%%time\n",
    "cursor.execute('VACUUM(FULL, ANALYZE) states;')"
   ]
  },
  {
   "cell_type": "markdown",
   "metadata": {},
   "source": [
    "## Places"
   ]
  },
  {
   "cell_type": "code",
   "execution_count": 7,
   "metadata": {},
   "outputs": [
    {
     "name": "stdout",
     "output_type": "stream",
     "text": [
      "Wall time: 12.9 s\n"
     ]
    }
   ],
   "source": [
    "%%time\n",
    "input_folder = 'data/places'\n",
    "gdf = gpd.GeoDataFrame()\n",
    "for state in os.listdir(input_folder):\n",
    "    gdf = gdf.append(gpd.read_file('{}/{}'.format(input_folder, state)))\n",
    "\n",
    "# outside of hawaii, only retain non-CDPs    \n",
    "mask = (gdf['STATEFP'] == '15') | (~gdf['NAMELSAD'].str.contains('CDP'))\n",
    "gdf = gdf[mask]\n",
    "gdf = gdf.to_crs(crs)"
   ]
  },
  {
   "cell_type": "code",
   "execution_count": 8,
   "metadata": {},
   "outputs": [
    {
     "name": "stdout",
     "output_type": "stream",
     "text": [
      "19678\n"
     ]
    },
    {
     "data": {
      "text/html": [
       "<div>\n",
       "<style scoped>\n",
       "    .dataframe tbody tr th:only-of-type {\n",
       "        vertical-align: middle;\n",
       "    }\n",
       "\n",
       "    .dataframe tbody tr th {\n",
       "        vertical-align: top;\n",
       "    }\n",
       "\n",
       "    .dataframe thead th {\n",
       "        text-align: right;\n",
       "    }\n",
       "</style>\n",
       "<table border=\"1\" class=\"dataframe\">\n",
       "  <thead>\n",
       "    <tr style=\"text-align: right;\">\n",
       "      <th></th>\n",
       "      <th>STATEFP</th>\n",
       "      <th>PLACEFP</th>\n",
       "      <th>PLACENS</th>\n",
       "      <th>GEOID</th>\n",
       "      <th>NAME</th>\n",
       "      <th>NAMELSAD</th>\n",
       "      <th>LSAD</th>\n",
       "      <th>CLASSFP</th>\n",
       "      <th>PCICBSA</th>\n",
       "      <th>PCINECTA</th>\n",
       "      <th>MTFCC</th>\n",
       "      <th>FUNCSTAT</th>\n",
       "      <th>ALAND</th>\n",
       "      <th>AWATER</th>\n",
       "      <th>INTPTLAT</th>\n",
       "      <th>INTPTLON</th>\n",
       "      <th>geometry</th>\n",
       "    </tr>\n",
       "  </thead>\n",
       "  <tbody>\n",
       "    <tr>\n",
       "      <th>65</th>\n",
       "      <td>04</td>\n",
       "      <td>77000</td>\n",
       "      <td>02412104</td>\n",
       "      <td>0477000</td>\n",
       "      <td>Tucson</td>\n",
       "      <td>Tucson city</td>\n",
       "      <td>25</td>\n",
       "      <td>C1</td>\n",
       "      <td>Y</td>\n",
       "      <td>N</td>\n",
       "      <td>G4110</td>\n",
       "      <td>A</td>\n",
       "      <td>613878921</td>\n",
       "      <td>819373</td>\n",
       "      <td>+32.1530356</td>\n",
       "      <td>-110.8707734</td>\n",
       "      <td>POLYGON ((-111.058731 32.206795, -111.054463 3...</td>\n",
       "    </tr>\n",
       "    <tr>\n",
       "      <th>69</th>\n",
       "      <td>04</td>\n",
       "      <td>68850</td>\n",
       "      <td>02411943</td>\n",
       "      <td>0468850</td>\n",
       "      <td>South Tucson</td>\n",
       "      <td>South Tucson city</td>\n",
       "      <td>25</td>\n",
       "      <td>C1</td>\n",
       "      <td>N</td>\n",
       "      <td>N</td>\n",
       "      <td>G4110</td>\n",
       "      <td>A</td>\n",
       "      <td>2659684</td>\n",
       "      <td>0</td>\n",
       "      <td>+32.1954741</td>\n",
       "      <td>-110.9691542</td>\n",
       "      <td>POLYGON ((-110.977608 32.203157, -110.977499 3...</td>\n",
       "    </tr>\n",
       "  </tbody>\n",
       "</table>\n",
       "</div>"
      ],
      "text/plain": [
       "   STATEFP PLACEFP   PLACENS    GEOID          NAME           NAMELSAD LSAD  \\\n",
       "65      04   77000  02412104  0477000        Tucson        Tucson city   25   \n",
       "69      04   68850  02411943  0468850  South Tucson  South Tucson city   25   \n",
       "\n",
       "   CLASSFP PCICBSA PCINECTA  MTFCC FUNCSTAT      ALAND  AWATER     INTPTLAT  \\\n",
       "65      C1       Y        N  G4110        A  613878921  819373  +32.1530356   \n",
       "69      C1       N        N  G4110        A    2659684       0  +32.1954741   \n",
       "\n",
       "        INTPTLON                                           geometry  \n",
       "65  -110.8707734  POLYGON ((-111.058731 32.206795, -111.054463 3...  \n",
       "69  -110.9691542  POLYGON ((-110.977608 32.203157, -110.977499 3...  "
      ]
     },
     "execution_count": 8,
     "metadata": {},
     "output_type": "execute_result"
    }
   ],
   "source": [
    "print(len(gdf))\n",
    "gdf[gdf['NAMELSAD'].str.contains('Tucson')]"
   ]
  },
  {
   "cell_type": "code",
   "execution_count": 9,
   "metadata": {},
   "outputs": [
    {
     "name": "stdout",
     "output_type": "stream",
     "text": [
      "Wall time: 79.2 ms\n"
     ]
    }
   ],
   "source": [
    "%%time\n",
    "# drop places table if it already exists, then create places table\n",
    "query = \"\"\"\n",
    "DROP TABLE IF EXISTS places;\n",
    "CREATE TABLE places (id SERIAL PRIMARY KEY,\n",
    "                     geoid VARCHAR NOT NULL,\n",
    "                     name VARCHAR NOT NULL,\n",
    "                     aland BIGINT NOT NULL);\n",
    "SELECT AddGeometryColumn ('places', 'geom', %s, 'MULTIPOLYGON', 2);\n",
    "CREATE INDEX place_index ON places USING GIST(geom);\n",
    "\"\"\"\n",
    "data = [srid]\n",
    "cursor.execute(query, data)"
   ]
  },
  {
   "cell_type": "code",
   "execution_count": 10,
   "metadata": {},
   "outputs": [
    {
     "name": "stdout",
     "output_type": "stream",
     "text": [
      "Wall time: 47.4 s\n"
     ]
    }
   ],
   "source": [
    "%%time\n",
    "cursor.execute(\"DELETE FROM places\")\n",
    "\n",
    "# insert each place into the places table one at a time\n",
    "for label, row in gdf.iterrows():\n",
    "    geoid = row['GEOID']\n",
    "    name = row['NAME']\n",
    "    aland = row['ALAND']\n",
    "    geometry_wkt = row['geometry'].wkt\n",
    "    \n",
    "    query = \"\"\"INSERT INTO places (geoid, name, aland, geom) \n",
    "               VALUES (%s, %s, %s, ST_Multi(ST_GeomFromText(%s, %s)))\"\"\"\n",
    "    data = (geoid, name, aland, geometry_wkt, srid)\n",
    "    cursor.execute(query, data)"
   ]
  },
  {
   "cell_type": "code",
   "execution_count": 11,
   "metadata": {},
   "outputs": [
    {
     "name": "stdout",
     "output_type": "stream",
     "text": [
      "Wall time: 7.67 s\n"
     ]
    }
   ],
   "source": [
    "%%time\n",
    "cursor.execute('VACUUM(FULL, ANALYZE) places;')"
   ]
  },
  {
   "cell_type": "markdown",
   "metadata": {},
   "source": [
    "## Urbanized Areas"
   ]
  },
  {
   "cell_type": "code",
   "execution_count": 12,
   "metadata": {},
   "outputs": [
    {
     "data": {
      "text/plain": [
       "497"
      ]
     },
     "execution_count": 12,
     "metadata": {},
     "output_type": "execute_result"
    }
   ],
   "source": [
    "gdf = gpd.read_file('data/tl_2017_us_uac10/')\n",
    "gdf = gdf[~(gdf['NAMELSAD10'].str.contains('Urban Cluster'))]\n",
    "gdf = gdf.to_crs(crs)\n",
    "len(gdf)"
   ]
  },
  {
   "cell_type": "code",
   "execution_count": 13,
   "metadata": {},
   "outputs": [
    {
     "data": {
      "text/html": [
       "<div>\n",
       "<style scoped>\n",
       "    .dataframe tbody tr th:only-of-type {\n",
       "        vertical-align: middle;\n",
       "    }\n",
       "\n",
       "    .dataframe tbody tr th {\n",
       "        vertical-align: top;\n",
       "    }\n",
       "\n",
       "    .dataframe thead th {\n",
       "        text-align: right;\n",
       "    }\n",
       "</style>\n",
       "<table border=\"1\" class=\"dataframe\">\n",
       "  <thead>\n",
       "    <tr style=\"text-align: right;\">\n",
       "      <th></th>\n",
       "      <th>UACE10</th>\n",
       "      <th>GEOID10</th>\n",
       "      <th>NAME10</th>\n",
       "      <th>NAMELSAD10</th>\n",
       "      <th>LSAD10</th>\n",
       "      <th>MTFCC10</th>\n",
       "      <th>UATYP10</th>\n",
       "      <th>FUNCSTAT10</th>\n",
       "      <th>ALAND10</th>\n",
       "      <th>AWATER10</th>\n",
       "      <th>INTPTLAT10</th>\n",
       "      <th>INTPTLON10</th>\n",
       "      <th>geometry</th>\n",
       "    </tr>\n",
       "  </thead>\n",
       "  <tbody>\n",
       "    <tr>\n",
       "      <th>2638</th>\n",
       "      <td>88732</td>\n",
       "      <td>88732</td>\n",
       "      <td>Tucson, AZ</td>\n",
       "      <td>Tucson, AZ Urbanized Area</td>\n",
       "      <td>75</td>\n",
       "      <td>G3500</td>\n",
       "      <td>U</td>\n",
       "      <td>S</td>\n",
       "      <td>915291544</td>\n",
       "      <td>2086650</td>\n",
       "      <td>+32.2548912</td>\n",
       "      <td>-110.9461410</td>\n",
       "      <td>(POLYGON ((-111.088915 32.402834, -111.089761 ...</td>\n",
       "    </tr>\n",
       "  </tbody>\n",
       "</table>\n",
       "</div>"
      ],
      "text/plain": [
       "     UACE10 GEOID10      NAME10                 NAMELSAD10 LSAD10 MTFCC10  \\\n",
       "2638  88732   88732  Tucson, AZ  Tucson, AZ Urbanized Area     75   G3500   \n",
       "\n",
       "     UATYP10 FUNCSTAT10    ALAND10  AWATER10   INTPTLAT10    INTPTLON10  \\\n",
       "2638       U          S  915291544   2086650  +32.2548912  -110.9461410   \n",
       "\n",
       "                                               geometry  \n",
       "2638  (POLYGON ((-111.088915 32.402834, -111.089761 ...  "
      ]
     },
     "execution_count": 13,
     "metadata": {},
     "output_type": "execute_result"
    }
   ],
   "source": [
    "gdf[gdf['NAMELSAD10'].str.contains('Tucson')]"
   ]
  },
  {
   "cell_type": "code",
   "execution_count": 14,
   "metadata": {},
   "outputs": [
    {
     "name": "stdout",
     "output_type": "stream",
     "text": [
      "Wall time: 36 ms\n"
     ]
    }
   ],
   "source": [
    "%%time\n",
    "# drop urbanized_areas table if it already exists, then create urbanized_areas table\n",
    "query = \"\"\"\n",
    "DROP TABLE IF EXISTS urbanized_areas;\n",
    "CREATE TABLE urbanized_areas (id SERIAL PRIMARY KEY,\n",
    "                              geoid VARCHAR NOT NULL,\n",
    "                              name VARCHAR NOT NULL,\n",
    "                              aland BIGINT NOT NULL);\n",
    "SELECT AddGeometryColumn ('urbanized_areas', 'geom', %s, 'MULTIPOLYGON', 2);\n",
    "CREATE INDEX urbanized_area_index ON urbanized_areas USING GIST(geom);\n",
    "\"\"\"\n",
    "data = [srid]\n",
    "cursor.execute(query, data)"
   ]
  },
  {
   "cell_type": "code",
   "execution_count": 15,
   "metadata": {},
   "outputs": [
    {
     "name": "stdout",
     "output_type": "stream",
     "text": [
      "Wall time: 20.9 s\n"
     ]
    }
   ],
   "source": [
    "%%time\n",
    "cursor.execute(\"DELETE FROM urbanized_areas\")\n",
    "\n",
    "# insert each urbanized area into the urbanized_areas table one at a time\n",
    "for label, row in gdf.iterrows():\n",
    "    geoid = row['GEOID10']\n",
    "    name = row['NAMELSAD10']\n",
    "    aland = row['ALAND10']\n",
    "    geometry_wkt = row['geometry'].wkt\n",
    "    \n",
    "    query = \"\"\"INSERT INTO urbanized_areas (geoid, name, aland, geom) \n",
    "               VALUES (%s, %s, %s, ST_Multi(ST_GeomFromText(%s, %s)))\"\"\"\n",
    "    data = (geoid, name, aland, geometry_wkt, srid)\n",
    "    cursor.execute(query, data)"
   ]
  },
  {
   "cell_type": "code",
   "execution_count": 16,
   "metadata": {},
   "outputs": [
    {
     "name": "stdout",
     "output_type": "stream",
     "text": [
      "Wall time: 4.54 s\n"
     ]
    }
   ],
   "source": [
    "%%time\n",
    "cursor.execute('VACUUM(FULL, ANALYZE) urbanized_areas;')"
   ]
  },
  {
   "cell_type": "markdown",
   "metadata": {},
   "source": [
    "## Test"
   ]
  },
  {
   "cell_type": "code",
   "execution_count": 17,
   "metadata": {},
   "outputs": [],
   "source": [
    "# all footprints within some city\n",
    "query = \"\"\"\n",
    "        SELECT ST_AsText(footprints.geom)\n",
    "        FROM footprints, places\n",
    "        WHERE places.name='Tucson'\n",
    "        AND ST_Intersects(places.geom, footprints.geom);\n",
    "        \"\"\""
   ]
  },
  {
   "cell_type": "code",
   "execution_count": 18,
   "metadata": {},
   "outputs": [
    {
     "name": "stdout",
     "output_type": "stream",
     "text": [
      "Wall time: 8.8 s\n"
     ]
    }
   ],
   "source": [
    "%%time\n",
    "cursor.execute(query)\n",
    "rows = cursor.fetchall()"
   ]
  },
  {
   "cell_type": "code",
   "execution_count": 19,
   "metadata": {},
   "outputs": [
    {
     "name": "stdout",
     "output_type": "stream",
     "text": [
      "171294\n",
      "Wall time: 3.69 s\n"
     ]
    }
   ],
   "source": [
    "%%time\n",
    "gdf = gpd.GeoDataFrame(rows, columns=['geometry'])\n",
    "gdf['geometry'] = gdf['geometry'].map(lambda x: wkt_loads(x))\n",
    "print(len(gdf))"
   ]
  },
  {
   "cell_type": "code",
   "execution_count": 20,
   "metadata": {},
   "outputs": [],
   "source": [
    "# all footprints within some urbanized area\n",
    "query = \"\"\"\n",
    "        SELECT ST_AsText(footprints.geom)\n",
    "        FROM footprints, urbanized_areas\n",
    "        WHERE urbanized_areas.name LIKE '%Tucson%AZ%'\n",
    "        AND ST_Intersects(urbanized_areas.geom, footprints.geom);\n",
    "        \"\"\""
   ]
  },
  {
   "cell_type": "code",
   "execution_count": 21,
   "metadata": {},
   "outputs": [
    {
     "name": "stdout",
     "output_type": "stream",
     "text": [
      "Wall time: 15.8 s\n"
     ]
    }
   ],
   "source": [
    "%%time\n",
    "cursor.execute(query)\n",
    "rows = cursor.fetchall()"
   ]
  },
  {
   "cell_type": "code",
   "execution_count": 22,
   "metadata": {},
   "outputs": [
    {
     "name": "stdout",
     "output_type": "stream",
     "text": [
      "302322\n",
      "Wall time: 7.03 s\n"
     ]
    }
   ],
   "source": [
    "%%time\n",
    "gdf = gpd.GeoDataFrame(rows, columns=['geometry'])\n",
    "gdf['geometry'] = gdf['geometry'].map(lambda x: wkt_loads(x))\n",
    "print(len(gdf))"
   ]
  },
  {
   "cell_type": "code",
   "execution_count": 23,
   "metadata": {},
   "outputs": [],
   "source": [
    "# all footprints within some state\n",
    "query = \"\"\"\n",
    "        SELECT ST_AsText(footprints.geom)\n",
    "        FROM footprints, states\n",
    "        WHERE states.stusps='DE'\n",
    "        AND ST_Intersects(states.geom, footprints.geom);\n",
    "        \"\"\""
   ]
  },
  {
   "cell_type": "code",
   "execution_count": 24,
   "metadata": {},
   "outputs": [
    {
     "name": "stdout",
     "output_type": "stream",
     "text": [
      "Wall time: 6.41 s\n"
     ]
    }
   ],
   "source": [
    "%%time\n",
    "cursor.execute(query)\n",
    "rows = cursor.fetchall()"
   ]
  },
  {
   "cell_type": "code",
   "execution_count": 25,
   "metadata": {},
   "outputs": [
    {
     "name": "stdout",
     "output_type": "stream",
     "text": [
      "329944\n",
      "Wall time: 7.98 s\n"
     ]
    }
   ],
   "source": [
    "%%time\n",
    "gdf = gpd.GeoDataFrame(rows, columns=['geometry'])\n",
    "gdf['geometry'] = gdf['geometry'].map(lambda x: wkt_loads(x))\n",
    "print(len(gdf))"
   ]
  },
  {
   "cell_type": "code",
   "execution_count": 26,
   "metadata": {},
   "outputs": [],
   "source": [
    "cursor.close()\n",
    "connection.close()"
   ]
  },
  {
   "cell_type": "code",
   "execution_count": null,
   "metadata": {},
   "outputs": [],
   "source": []
  }
 ],
 "metadata": {
  "kernelspec": {
   "display_name": "Python 3",
   "language": "python",
   "name": "python3"
  },
  "language_info": {
   "codemirror_mode": {
    "name": "ipython",
    "version": 3
   },
   "file_extension": ".py",
   "mimetype": "text/x-python",
   "name": "python",
   "nbconvert_exporter": "python",
   "pygments_lexer": "ipython3",
   "version": "3.6.5"
  }
 },
 "nbformat": 4,
 "nbformat_minor": 2
}
