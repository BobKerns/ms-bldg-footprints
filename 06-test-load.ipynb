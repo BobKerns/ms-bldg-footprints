{
 "cells": [
  {
   "cell_type": "code",
   "execution_count": 1,
   "metadata": {},
   "outputs": [],
   "source": [
    "# how many building footprints can we retrieve for each state?\n",
    "# are we missing any compared to github documentation?"
   ]
  },
  {
   "cell_type": "code",
   "execution_count": 2,
   "metadata": {},
   "outputs": [],
   "source": [
    "import geopandas as gpd\n",
    "import json\n",
    "import numpy as np\n",
    "import pandas as pd\n",
    "import psycopg2\n",
    "import time\n",
    "from shapely.wkt import loads as wkt_loads\n",
    "\n",
    "from keys import pg_user, pg_pass, pg_host, pg_port, pg_db, pg_table"
   ]
  },
  {
   "cell_type": "code",
   "execution_count": 3,
   "metadata": {},
   "outputs": [],
   "source": [
    "connection = psycopg2.connect(database=pg_db,\n",
    "                              user=pg_user,\n",
    "                              password=pg_pass,\n",
    "                              host=pg_host,\n",
    "                              port=pg_port)\n",
    "connection.set_session(autocommit=True)\n",
    "cursor = connection.cursor()"
   ]
  },
  {
   "cell_type": "markdown",
   "metadata": {},
   "source": [
    "## Show random rows in table"
   ]
  },
  {
   "cell_type": "code",
   "execution_count": 4,
   "metadata": {},
   "outputs": [
    {
     "data": {
      "text/html": [
       "<div>\n",
       "<style scoped>\n",
       "    .dataframe tbody tr th:only-of-type {\n",
       "        vertical-align: middle;\n",
       "    }\n",
       "\n",
       "    .dataframe tbody tr th {\n",
       "        vertical-align: top;\n",
       "    }\n",
       "\n",
       "    .dataframe thead th {\n",
       "        text-align: right;\n",
       "    }\n",
       "</style>\n",
       "<table border=\"1\" class=\"dataframe\">\n",
       "  <thead>\n",
       "    <tr style=\"text-align: right;\">\n",
       "      <th></th>\n",
       "      <th>id</th>\n",
       "      <th>state</th>\n",
       "      <th>geometry</th>\n",
       "    </tr>\n",
       "  </thead>\n",
       "  <tbody>\n",
       "    <tr>\n",
       "      <th>0</th>\n",
       "      <td>13115081</td>\n",
       "      <td>CA</td>\n",
       "      <td>POLYGON ((-117.737544178963 34.0839276944483, ...</td>\n",
       "    </tr>\n",
       "    <tr>\n",
       "      <th>1</th>\n",
       "      <td>28497456</td>\n",
       "      <td>GA</td>\n",
       "      <td>POLYGON ((-83.87249297006549 33.869927847541, ...</td>\n",
       "    </tr>\n",
       "    <tr>\n",
       "      <th>2</th>\n",
       "      <td>54916719</td>\n",
       "      <td>MI</td>\n",
       "      <td>POLYGON ((-85.5521347750001 42.8655668508731, ...</td>\n",
       "    </tr>\n",
       "    <tr>\n",
       "      <th>3</th>\n",
       "      <td>95246650</td>\n",
       "      <td>RI</td>\n",
       "      <td>POLYGON ((-71.5374141248932 41.6696543323569, ...</td>\n",
       "    </tr>\n",
       "    <tr>\n",
       "      <th>4</th>\n",
       "      <td>119201695</td>\n",
       "      <td>WV</td>\n",
       "      <td>POLYGON ((-79.1211187440627 38.845070732438, -...</td>\n",
       "    </tr>\n",
       "  </tbody>\n",
       "</table>\n",
       "</div>"
      ],
      "text/plain": [
       "          id state                                           geometry\n",
       "0   13115081    CA  POLYGON ((-117.737544178963 34.0839276944483, ...\n",
       "1   28497456    GA  POLYGON ((-83.87249297006549 33.869927847541, ...\n",
       "2   54916719    MI  POLYGON ((-85.5521347750001 42.8655668508731, ...\n",
       "3   95246650    RI  POLYGON ((-71.5374141248932 41.6696543323569, ...\n",
       "4  119201695    WV  POLYGON ((-79.1211187440627 38.845070732438, -..."
      ]
     },
     "execution_count": 4,
     "metadata": {},
     "output_type": "execute_result"
    }
   ],
   "source": [
    "# fast way to randomly sample n rows\n",
    "n = 5\n",
    "cursor.execute('SELECT MAX(id) FROM {table};'.format(table=pg_table))\n",
    "max_id = cursor.fetchall()[0][0]\n",
    "ids = tuple(np.random.randint(low=1, high=max_id, size=n))\n",
    "\n",
    "query = \"\"\"\n",
    "        SELECT id, state, ST_AsText(geom)\n",
    "        FROM {table}\n",
    "        WHERE id IN {ids};\n",
    "        \"\"\"\n",
    "cursor.execute(query.format(table=pg_table, ids=ids))\n",
    "rows = cursor.fetchall()\n",
    "gdf = gpd.GeoDataFrame(rows, columns=['id', 'state', 'geometry'])\n",
    "gdf['geometry'] = gdf['geometry'].map(lambda x: wkt_loads(x))\n",
    "gdf"
   ]
  },
  {
   "cell_type": "markdown",
   "metadata": {},
   "source": [
    "## How many building footprints for each state?"
   ]
  },
  {
   "cell_type": "code",
   "execution_count": 5,
   "metadata": {},
   "outputs": [
    {
     "name": "stdout",
     "output_type": "stream",
     "text": [
      "['AK', 'AL', 'AR', 'AZ', 'CA', 'CO', 'CT', 'DC', 'DE', 'FL', 'GA', 'HI', 'IA', 'ID', 'IL', 'IN', 'KS', 'KY', 'LA', 'MA', 'MD', 'ME', 'MI', 'MN', 'MO', 'MS', 'MT', 'NC', 'ND', 'NE', 'NH', 'NJ', 'NM', 'NV', 'NY', 'OH', 'OK', 'OR', 'PA', 'RI', 'SC', 'SD', 'TN', 'TX', 'UT', 'VA', 'VT', 'WA', 'WI', 'WV', 'WY']\n",
      "Wall time: 2min 14s\n"
     ]
    }
   ],
   "source": [
    "%%time\n",
    "# get all states in the footprints table\n",
    "query = \"\"\"\n",
    "        SELECT DISTINCT {table}.state\n",
    "        FROM {table};\n",
    "        \"\"\"\n",
    "cursor.execute(query.format(table=pg_table))\n",
    "rows = cursor.fetchall()\n",
    "states = [item[0] for item in rows]\n",
    "states = sorted(states)\n",
    "print(states)"
   ]
  },
  {
   "cell_type": "code",
   "execution_count": 6,
   "metadata": {},
   "outputs": [
    {
     "name": "stdout",
     "output_type": "stream",
     "text": [
      "AK 232159 \t4.4\n",
      "AL 2392171 \t22.5\n",
      "AR 1499025 \t14.2\n",
      "AZ 2492999 \t32.7\n",
      "CA 10556550 \t107.5\n",
      "CO 2043866 \t22.2\n",
      "CT 1156638 \t11.6\n",
      "DC 58330 \t0.7\n",
      "DE 331654 \t3.2\n",
      "FL 6532545 \t62.0\n",
      "GA 3801461 \t36.1\n",
      "HI 252894 \t3.0\n",
      "IA 2013085 \t17.8\n",
      "ID 883618 \t8.7\n",
      "IL 4783021 \t43.1\n",
      "IN 3224996 \t30.3\n",
      "KS 1564845 \t14.4\n",
      "KY 2363324 \t22.0\n",
      "LA 2005341 \t19.3\n",
      "MA 1982583 \t20.0\n",
      "MD 1590655 \t15.4\n",
      "ME 736346 \t7.1\n",
      "MI 4854138 \t44.2\n",
      "MN 2792296 \t27.0\n",
      "MO 3096410 \t28.3\n",
      "MS 1470285 \t14.2\n",
      "MT 762428 \t7.5\n",
      "NC 4504348 \t41.5\n",
      "ND 557809 \t5.9\n",
      "NE 1135526 \t10.3\n",
      "NH 558850 \t5.5\n",
      "NJ 2370475 \t22.1\n",
      "NM 985820 \t10.2\n",
      "NV 847575 \t8.4\n",
      "NY 4788312 \t45.0\n",
      "OH 5343670 \t49.9\n",
      "OK 2056402 \t19.9\n",
      "OR 1781820 \t17.5\n",
      "PA 4801561 \t45.2\n",
      "RI 348566 \t4.0\n",
      "SC 2134688 \t20.0\n",
      "SD 649233 \t6.2\n",
      "TN 2964339 \t27.5\n",
      "TX 9638970 \t91.8\n",
      "UT 980745 \t11.0\n",
      "VA 3020994 \t28.7\n",
      "VT 346038 \t3.9\n",
      "WA 2910981 \t28.3\n",
      "WI 3010755 \t28.4\n",
      "WV 1020048 \t9.7\n",
      "WY 376912 \t3.7\n"
     ]
    }
   ],
   "source": [
    "# get all footprints for each state\n",
    "counts = {}\n",
    "query = \"\"\"\n",
    "        SELECT ST_AsText({table}.geom)\n",
    "        FROM {table}\n",
    "        WHERE {table}.state='{state}';\n",
    "        \"\"\"\n",
    "\n",
    "for state in states:\n",
    "    \n",
    "    start_time = time.time()\n",
    "    \n",
    "    cursor.execute(query.format(state=state, table=pg_table))\n",
    "    rows = cursor.fetchall()\n",
    "    counts[state] = len(rows)\n",
    "\n",
    "    end_time = time.time() - start_time\n",
    "    print(state, len(rows), '\\t{:.1f}'.format(end_time))"
   ]
  },
  {
   "cell_type": "code",
   "execution_count": 7,
   "metadata": {},
   "outputs": [],
   "source": [
    "pd.DataFrame(counts, index=['count']).T.to_csv('data/state_counts.csv', index=True, encoding='utf-8')"
   ]
  },
  {
   "cell_type": "markdown",
   "metadata": {},
   "source": [
    "## All done"
   ]
  },
  {
   "cell_type": "code",
   "execution_count": 8,
   "metadata": {},
   "outputs": [],
   "source": [
    "cursor.close()\n",
    "connection.close()"
   ]
  },
  {
   "cell_type": "code",
   "execution_count": null,
   "metadata": {},
   "outputs": [],
   "source": []
  }
 ],
 "metadata": {
  "kernelspec": {
   "display_name": "Python 3",
   "language": "python",
   "name": "python3"
  },
  "language_info": {
   "codemirror_mode": {
    "name": "ipython",
    "version": 3
   },
   "file_extension": ".py",
   "mimetype": "text/x-python",
   "name": "python",
   "nbconvert_exporter": "python",
   "pygments_lexer": "ipython3",
   "version": "3.6.5"
  }
 },
 "nbformat": 4,
 "nbformat_minor": 2
}
