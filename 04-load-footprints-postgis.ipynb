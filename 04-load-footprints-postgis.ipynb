{
 "cells": [
  {
   "cell_type": "code",
   "execution_count": 1,
   "metadata": {},
   "outputs": [],
   "source": [
    "import geopandas as gpd\n",
    "import os\n",
    "import pandas as pd\n",
    "import psycopg2\n",
    "import time\n",
    "from shapely.geometry import Polygon\n",
    "\n",
    "from config import split_files_folder\n",
    "from keys import pg_user, pg_pass, pg_host, pg_port, pg_db, pg_table\n",
    "\n",
    "srid = 4326 #ms building footprints crs"
   ]
  },
  {
   "cell_type": "code",
   "execution_count": 2,
   "metadata": {},
   "outputs": [],
   "source": [
    "def connect_pg(pg_user=pg_user, pg_pass=pg_pass, pg_host=pg_host, \n",
    "               pg_port=pg_port, pg_db=None, autocommit=True):\n",
    "    \n",
    "    connection = psycopg2.connect(database=pg_db,\n",
    "                                  user=pg_user,\n",
    "                                  password=pg_pass,\n",
    "                                  host=pg_host,\n",
    "                                  port=pg_port)\n",
    "    cursor = connection.cursor()\n",
    "    connection.set_session(autocommit=autocommit)\n",
    "    \n",
    "    return cursor, connection"
   ]
  },
  {
   "cell_type": "code",
   "execution_count": 3,
   "metadata": {},
   "outputs": [],
   "source": [
    "def check_integrity(gdf):\n",
    "    \n",
    "    count_rows = len(gdf)\n",
    "    count_invalid = (~gdf['geometry'].is_valid).sum()\n",
    "    count_nonpolygons = gdf['geometry'].map(lambda geom: not isinstance(geom, Polygon)).sum()\n",
    "    count_bad_area = ((pd.isnull(gdf.area)) | (gdf.area==0)).sum()\n",
    "\n",
    "    return count_rows, count_invalid, count_nonpolygons, count_bad_area"
   ]
  },
  {
   "cell_type": "markdown",
   "metadata": {},
   "source": [
    "## Load the data"
   ]
  },
  {
   "cell_type": "code",
   "execution_count": 4,
   "metadata": {},
   "outputs": [],
   "source": [
    "# connect to the server and drop db if already exists\n",
    "cursor, connection = connect_pg(pg_db=None)\n",
    "cursor.execute(\"DROP DATABASE IF EXISTS {};\".format(pg_db))\n",
    "cursor.execute(\"CREATE DATABASE {};\".format(pg_db))"
   ]
  },
  {
   "cell_type": "code",
   "execution_count": 5,
   "metadata": {},
   "outputs": [],
   "source": [
    "# connect to the newly created db\n",
    "cursor, connection = connect_pg(pg_db=pg_db)\n",
    "cursor.execute(\"CREATE EXTENSION postgis;\")"
   ]
  },
  {
   "cell_type": "code",
   "execution_count": 6,
   "metadata": {},
   "outputs": [],
   "source": [
    "# create the table\n",
    "cursor.execute(\"DROP TABLE IF EXISTS {};\".format(pg_table))\n",
    "cursor.execute(\"CREATE TABLE {} (id SERIAL PRIMARY KEY, state VARCHAR NOT NULL);\".format(pg_table))\n",
    "cursor.execute(\"SELECT AddGeometryColumn ('{}', 'geom', {}, 'POLYGON', 2);\".format(pg_table, srid))\n",
    "cursor.execute(\"CREATE INDEX fp_spatial_idx ON {} USING GIST(geom);\".format(pg_table))\n",
    "cursor.execute(\"CREATE INDEX fp_state_idx ON {} (state);\".format(pg_table))"
   ]
  },
  {
   "cell_type": "code",
   "execution_count": 7,
   "metadata": {},
   "outputs": [],
   "source": [
    "# set up the query template to fill in with multiple rows' values\n",
    "query_template = \"INSERT INTO {table} (state, geom) VALUES ('{state}', ST_GeomFromText('{}', {srid}))\"\n",
    "additional_row = \", ('{state}', ST_GeomFromText('{}', {srid}))\""
   ]
  },
  {
   "cell_type": "code",
   "execution_count": 8,
   "metadata": {},
   "outputs": [
    {
     "name": "stdout",
     "output_type": "stream",
     "text": [
      "01_AL-000.json 114.8 secs\n",
      "01_AL-001.json 140.2 secs\n",
      "01_AL-002.json 54.6 secs\n",
      "02_AK-000.json 44.0 secs\n",
      "04_AZ-000.json 137.0 secs\n",
      "04_AZ-001.json 162.5 secs\n",
      "04_AZ-002.json 77.6 secs\n",
      "05_AR-000.json 147.9 secs\n",
      "05_AR-001.json 72.5 secs\n",
      "06_CA-000.json 155.0 secs\n",
      "06_CA-001.json 174.9 secs\n",
      "06_CA-002.json 175.6 secs\n",
      "06_CA-003.json 179.7 secs\n",
      "06_CA-004.json 182.6 secs\n",
      "06_CA-005.json 199.9 secs\n",
      "06_CA-006.json 218.8 secs\n",
      "06_CA-007.json 227.9 secs\n",
      "06_CA-008.json 249.5 secs\n",
      "06_CA-009.json 255.8 secs\n",
      "06_CA-010.json 146.9 secs\n",
      "08_CO-000.json 180.7 secs\n",
      "08_CO-001.json 225.5 secs\n",
      "08_CO-002.json 15.5 secs\n",
      "09_CT-000.json 181.6 secs\n",
      "09_CT-001.json 32.7 secs\n",
      "10_DE-000.json 61.5 secs\n",
      "11_DC-000.json 11.4 secs\n",
      "12_FL-000.json 218.2 secs\n",
      "12_FL-001.json 212.9 secs\n",
      "12_FL-002.json 199.5 secs\n",
      "12_FL-003.json 198.7 secs\n",
      "12_FL-004.json 217.5 secs\n",
      "12_FL-005.json 229.5 secs\n",
      "12_FL-006.json 115.1 secs\n",
      "13_GA-000.json 179.8 secs\n",
      "13_GA-001.json 223.0 secs\n",
      "13_GA-002.json 265.3 secs\n",
      "13_GA-003.json 275.7 secs\n",
      "15_HI-000.json 51.3 secs\n",
      "16_ID-000.json 172.1 secs\n",
      "17_IL-000.json 213.6 secs\n",
      "17_IL-001.json 203.2 secs\n",
      "17_IL-002.json 202.2 secs\n",
      "17_IL-003.json 212.5 secs\n",
      "17_IL-004.json 157.0 secs\n",
      "18_IN-000.json 202.5 secs\n",
      "18_IN-001.json 197.3 secs\n",
      "18_IN-002.json 239.9 secs\n",
      "18_IN-003.json 53.4 secs\n",
      "19_IA-000.json 183.5 secs\n",
      "19_IA-001.json 199.2 secs\n",
      "19_IA-002.json 7.0 secs\n",
      "20_KS-000.json 200.8 secs\n",
      "20_KS-001.json 119.9 secs\n",
      "21_KY-000.json 200.6 secs\n",
      "21_KY-001.json 223.8 secs\n",
      "21_KY-002.json 74.2 secs\n",
      "22_LA-000.json 201.6 secs\n",
      "22_LA-001.json 229.8 secs\n",
      "22_LA-002.json 8.2 secs\n",
      "23_ME-000.json 140.8 secs\n",
      "24_MD-000.json 202.6 secs\n",
      "24_MD-001.json 120.2 secs\n",
      "25_MA-000.json 198.9 secs\n",
      "25_MA-001.json 194.9 secs\n",
      "26_MI-000.json 200.6 secs\n",
      "26_MI-001.json 220.9 secs\n",
      "26_MI-002.json 242.8 secs\n",
      "26_MI-003.json 282.5 secs\n",
      "26_MI-004.json 209.7 secs\n",
      "27_MN-000.json 201.3 secs\n",
      "27_MN-001.json 195.4 secs\n",
      "27_MN-002.json 192.5 secs\n",
      "28_MS-000.json 205.8 secs\n",
      "28_MS-001.json 97.1 secs\n",
      "29_MO-000.json 192.6 secs\n",
      "29_MO-001.json 208.3 secs\n",
      "29_MO-002.json 214.7 secs\n",
      "29_MO-003.json 19.7 secs\n",
      "30_MT-000.json 160.8 secs\n",
      "31_NE-000.json 192.1 secs\n",
      "31_NE-001.json 26.2 secs\n",
      "32_NV-000.json 186.0 secs\n",
      "33_NH-000.json 123.4 secs\n",
      "34_NJ-000.json 202.1 secs\n",
      "34_NJ-001.json 201.0 secs\n",
      "34_NJ-002.json 76.5 secs\n",
      "35_NM-000.json 203.7 secs\n",
      "36_NY-000.json 212.1 secs\n",
      "36_NY-001.json 223.9 secs\n",
      "36_NY-002.json 252.7 secs\n",
      "36_NY-003.json 244.5 secs\n",
      "36_NY-004.json 176.1 secs\n",
      "37_NC-000.json 207.2 secs\n",
      "37_NC-001.json 195.0 secs\n",
      "37_NC-002.json 233.7 secs\n",
      "37_NC-003.json 216.9 secs\n",
      "37_NC-004.json 106.1 secs\n",
      "38_ND-000.json 121.8 secs\n",
      "39_OH-000.json 207.5 secs\n",
      "39_OH-001.json 198.9 secs\n",
      "39_OH-002.json 243.0 secs\n",
      "39_OH-003.json 263.5 secs\n",
      "39_OH-004.json 266.5 secs\n",
      "39_OH-005.json 84.1 secs\n",
      "40_OK-000.json 213.8 secs\n",
      "40_OK-001.json 215.1 secs\n",
      "40_OK-002.json 13.1 secs\n",
      "41_OR-000.json 205.0 secs\n",
      "41_OR-001.json 171.2 secs\n",
      "42_PA-000.json 219.4 secs\n",
      "42_PA-001.json 220.9 secs\n",
      "42_PA-002.json 221.7 secs\n",
      "42_PA-003.json 239.3 secs\n",
      "42_PA-004.json 170.7 secs\n",
      "44_RI-000.json 65.6 secs\n",
      "45_SC-000.json 204.2 secs\n",
      "45_SC-001.json 195.1 secs\n",
      "45_SC-002.json 24.5 secs\n",
      "46_SD-000.json 124.1 secs\n",
      "47_TN-000.json 189.9 secs\n",
      "47_TN-001.json 198.7 secs\n",
      "47_TN-002.json 224.0 secs\n",
      "48_TX-000.json 208.7 secs\n",
      "48_TX-001.json 211.5 secs\n",
      "48_TX-002.json 201.5 secs\n",
      "48_TX-003.json 214.3 secs\n",
      "48_TX-004.json 242.5 secs\n",
      "48_TX-005.json 212.8 secs\n",
      "48_TX-006.json 247.2 secs\n",
      "48_TX-007.json 232.9 secs\n",
      "48_TX-008.json 235.5 secs\n",
      "48_TX-009.json 172.6 secs\n",
      "49_UT-000.json 200.9 secs\n",
      "50_VT-000.json 71.1 secs\n",
      "51_VA-000.json 204.0 secs\n",
      "51_VA-001.json 195.0 secs\n",
      "51_VA-002.json 229.4 secs\n",
      "51_VA-003.json 9.8 secs\n",
      "53_WA-000.json 196.9 secs\n",
      "53_WA-001.json 202.3 secs\n",
      "53_WA-002.json 189.3 secs\n",
      "54_WV-000.json 204.6 secs\n",
      "54_WV-001.json 7.6 secs\n",
      "55_WI-000.json 197.9 secs\n",
      "55_WI-001.json 197.0 secs\n",
      "55_WI-002.json 235.6 secs\n",
      "55_WI-003.json 7.7 secs\n",
      "56_WY-000.json 74.5 secs\n"
     ]
    }
   ],
   "source": [
    "for filename in os.listdir(split_files_folder):\n",
    "    \n",
    "    print(filename, end=' ')\n",
    "    start_time = time.time()\n",
    "    \n",
    "    state = filename[filename.find('_') + 1 : filename.find('-')]\n",
    "    filepath = '{}/{}'.format(split_files_folder, filename)\n",
    "    \n",
    "    # load the geojson file and extract its geometries as wkt\n",
    "    gdf = gpd.read_file(filepath)\n",
    "    geoms_wkt = [geom.wkt for geom in gdf['geometry'].values]\n",
    "    \n",
    "    # prep query to insert all the rows with a single command\n",
    "    additional_rows = additional_row * (len(gdf) - 1)\n",
    "    query_template_full = query_template + additional_rows + ';'\n",
    "    query = query_template_full.format(*geoms_wkt, srid=srid, state=state, table=pg_table)\n",
    "    \n",
    "    cursor.execute(query)\n",
    "    \n",
    "    print('{:.1f} secs'.format(time.time() - start_time))"
   ]
  },
  {
   "cell_type": "code",
   "execution_count": 9,
   "metadata": {},
   "outputs": [
    {
     "name": "stdout",
     "output_type": "stream",
     "text": [
      "Wall time: 1h 7min 35s\n"
     ]
    }
   ],
   "source": [
    "%%time\n",
    "# optimize the db after all loaded and rebuild indexes\n",
    "cursor.execute('VACUUM(FULL, ANALYZE);')"
   ]
  },
  {
   "cell_type": "markdown",
   "metadata": {},
   "source": [
    "## Test results"
   ]
  },
  {
   "cell_type": "code",
   "execution_count": 10,
   "metadata": {},
   "outputs": [
    {
     "name": "stdout",
     "output_type": "stream",
     "text": [
      "122,608,100 rows\n"
     ]
    }
   ],
   "source": [
    "# how many rows in the table? expecting 122,608,100 rows.\n",
    "cursor.execute(\"SELECT count(*) AS exact_count FROM {};\".format(pg_table))\n",
    "rows = cursor.fetchall()\n",
    "print('{:,.0f} rows'.format(rows[0][0]))"
   ]
  },
  {
   "cell_type": "code",
   "execution_count": 11,
   "metadata": {},
   "outputs": [
    {
     "data": {
      "text/plain": [
       "2392171"
      ]
     },
     "execution_count": 11,
     "metadata": {},
     "output_type": "execute_result"
    }
   ],
   "source": [
    "# get all footprints in AL. expecting 2,392,171 rows.\n",
    "state = 'AL'\n",
    "query = \"\"\"\n",
    "        SELECT ST_AsText({table}.geom)\n",
    "        FROM {table}\n",
    "        WHERE {table}.state='{state}';\n",
    "        \"\"\"\n",
    "cursor.execute(query.format(state=state, table=pg_table))\n",
    "rows = cursor.fetchall()\n",
    "len(rows)"
   ]
  },
  {
   "cell_type": "markdown",
   "metadata": {},
   "source": [
    "## All done"
   ]
  },
  {
   "cell_type": "code",
   "execution_count": 12,
   "metadata": {},
   "outputs": [],
   "source": [
    "cursor.close()\n",
    "connection.close()"
   ]
  },
  {
   "cell_type": "code",
   "execution_count": null,
   "metadata": {},
   "outputs": [],
   "source": []
  }
 ],
 "metadata": {
  "kernelspec": {
   "display_name": "Python 3",
   "language": "python",
   "name": "python3"
  },
  "language_info": {
   "codemirror_mode": {
    "name": "ipython",
    "version": 3
   },
   "file_extension": ".py",
   "mimetype": "text/x-python",
   "name": "python",
   "nbconvert_exporter": "python",
   "pygments_lexer": "ipython3",
   "version": "3.6.5"
  }
 },
 "nbformat": 4,
 "nbformat_minor": 2
}
