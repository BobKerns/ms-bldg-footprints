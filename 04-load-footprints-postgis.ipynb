{
 "cells": [
  {
   "cell_type": "code",
   "execution_count": 1,
   "metadata": {},
   "outputs": [],
   "source": [
    "import os\n",
    "import psycopg2\n",
    "import subprocess\n",
    "import time\n",
    "\n",
    "from config import split_files_folder\n",
    "from keys import pg_user, pg_pass, pg_host, pg_port, pg_db, pg_table\n",
    "\n",
    "srid = 4326 #ms building footprints crs"
   ]
  },
  {
   "cell_type": "code",
   "execution_count": 2,
   "metadata": {},
   "outputs": [],
   "source": [
    "def connect_pg(pg_user=pg_user, pg_pass=pg_pass, pg_host=pg_host, \n",
    "               pg_port=pg_port, pg_db=None, autocommit=True):\n",
    "    \n",
    "    connection = psycopg2.connect(database=pg_db,\n",
    "                                  user=pg_user,\n",
    "                                  password=pg_pass,\n",
    "                                  host=pg_host,\n",
    "                                  port=pg_port)\n",
    "    cursor = connection.cursor()\n",
    "    connection.set_session(autocommit=autocommit)\n",
    "    \n",
    "    return cursor, connection"
   ]
  },
  {
   "cell_type": "code",
   "execution_count": 3,
   "metadata": {},
   "outputs": [],
   "source": [
    "# connect to the server and drop db if already exists\n",
    "cursor, connection = connect_pg(pg_db=None)\n",
    "cursor.execute(\"DROP DATABASE IF EXISTS {};\".format(pg_db))\n",
    "cursor.execute(\"CREATE DATABASE {};\".format(pg_db))"
   ]
  },
  {
   "cell_type": "code",
   "execution_count": 4,
   "metadata": {},
   "outputs": [],
   "source": [
    "# connect to the newly created db\n",
    "cursor, connection = connect_pg(pg_db=pg_db)\n",
    "cursor.execute(\"CREATE EXTENSION postgis;\")"
   ]
  },
  {
   "cell_type": "code",
   "execution_count": 5,
   "metadata": {},
   "outputs": [],
   "source": [
    "# create the table\n",
    "cursor.execute(\"CREATE TABLE {} (id SERIAL PRIMARY KEY);\".format(pg_table))\n",
    "cursor.execute(\"SELECT AddGeometryColumn ('{}', 'geom', %s, 'POLYGON', 2);\".format(pg_table), [srid])\n",
    "cursor.execute(\"CREATE INDEX my_index ON {} USING GIST(geom);\".format(pg_table))\n",
    "cursor.execute(\"VACUUM ANALYZE;\")"
   ]
  },
  {
   "cell_type": "code",
   "execution_count": 6,
   "metadata": {},
   "outputs": [],
   "source": [
    "# ogr2ogr command to load geojson files into pg db\n",
    "cmd_template = 'ogr2ogr -f \"PostgreSQL\" PG:\"dbname={} user={} password={}\" \"{}\" -nln {} -append'"
   ]
  },
  {
   "cell_type": "code",
   "execution_count": 7,
   "metadata": {},
   "outputs": [
    {
     "name": "stdout",
     "output_type": "stream",
     "text": [
      "01_AL-000.json 162.57\n",
      "01_AL-001.json 153.35\n",
      "01_AL-002.json 60.16\n",
      "02_AK-000.json 41.47\n",
      "04_AZ-000.json 160.40\n",
      "04_AZ-001.json 160.20\n",
      "04_AZ-002.json 79.26\n",
      "05_AR-000.json 162.32\n",
      "05_AR-001.json 76.83\n",
      "06_CA-000.json 162.58\n",
      "06_CA-001.json 159.36\n",
      "06_CA-002.json 167.89\n",
      "06_CA-003.json 166.12\n",
      "06_CA-004.json 180.42\n",
      "06_CA-005.json 175.13\n",
      "06_CA-006.json 189.20\n",
      "06_CA-007.json 188.11\n",
      "06_CA-008.json 247.72\n",
      "06_CA-009.json 193.90\n",
      "06_CA-010.json 105.57\n",
      "08_CO-000.json 163.43\n",
      "08_CO-001.json 158.44\n",
      "08_CO-002.json 6.95\n",
      "09_CT-000.json 152.42\n",
      "09_CT-001.json 24.26\n",
      "10_DE-000.json 51.51\n",
      "11_DC-000.json 9.09\n",
      "12_FL-000.json 156.25\n",
      "12_FL-001.json 155.63\n",
      "12_FL-002.json 161.63\n",
      "12_FL-003.json 169.00\n",
      "12_FL-004.json 172.27\n",
      "12_FL-005.json 187.93\n",
      "12_FL-006.json 105.50\n",
      "13_GA-000.json 154.75\n",
      "13_GA-001.json 153.46\n",
      "13_GA-002.json 156.34\n",
      "13_GA-003.json 127.50\n",
      "15_HI-000.json 38.93\n",
      "16_ID-000.json 134.81\n",
      "17_IL-000.json 153.65\n",
      "17_IL-001.json 154.52\n",
      "17_IL-002.json 159.77\n",
      "17_IL-003.json 166.19\n",
      "17_IL-004.json 127.53\n",
      "18_IN-000.json 155.93\n",
      "18_IN-001.json 157.85\n",
      "18_IN-002.json 168.67\n",
      "18_IN-003.json 35.53\n",
      "19_IA-000.json 157.91\n",
      "19_IA-001.json 156.79\n",
      "19_IA-002.json 2.21\n",
      "20_KS-000.json 159.37\n",
      "20_KS-001.json 90.09\n",
      "21_KY-000.json 164.24\n",
      "21_KY-001.json 155.94\n",
      "21_KY-002.json 55.31\n",
      "22_LA-000.json 159.71\n",
      "22_LA-001.json 160.85\n",
      "22_LA-002.json 1.13\n",
      "23_ME-000.json 113.12\n",
      "24_MD-000.json 159.59\n",
      "24_MD-001.json 92.84\n",
      "25_MA-000.json 160.00\n",
      "25_MA-001.json 151.76\n",
      "26_MI-000.json 155.92\n",
      "26_MI-001.json 155.21\n",
      "26_MI-002.json 157.74\n",
      "26_MI-003.json 167.28\n",
      "26_MI-004.json 145.87\n",
      "27_MN-000.json 154.94\n",
      "27_MN-001.json 154.51\n",
      "27_MN-002.json 122.35\n",
      "28_MS-000.json 161.07\n",
      "28_MS-001.json 73.44\n",
      "29_MO-000.json 161.23\n",
      "29_MO-001.json 157.77\n",
      "29_MO-002.json 163.91\n",
      "29_MO-003.json 15.59\n",
      "30_MT-000.json 119.66\n",
      "31_NE-000.json 156.76\n",
      "31_NE-001.json 20.98\n",
      "32_NV-000.json 137.69\n",
      "33_NH-000.json 87.90\n",
      "34_NJ-000.json 159.68\n",
      "34_NJ-001.json 156.91\n",
      "34_NJ-002.json 58.72\n",
      "35_NM-000.json 164.18\n",
      "36_NY-000.json 162.72\n",
      "36_NY-001.json 156.90\n",
      "36_NY-002.json 159.05\n",
      "36_NY-003.json 162.26\n",
      "36_NY-004.json 128.26\n",
      "37_NC-000.json 155.67\n",
      "37_NC-001.json 157.43\n",
      "37_NC-002.json 159.11\n",
      "37_NC-003.json 164.91\n",
      "37_NC-004.json 83.45\n",
      "38_ND-000.json 94.32\n",
      "39_OH-000.json 162.98\n",
      "39_OH-001.json 159.52\n",
      "39_OH-002.json 158.29\n",
      "39_OH-003.json 164.56\n",
      "39_OH-004.json 173.86\n",
      "39_OH-005.json 56.85\n",
      "40_OK-000.json 166.63\n",
      "40_OK-001.json 158.19\n",
      "40_OK-002.json 8.77\n",
      "41_OR-000.json 159.54\n",
      "41_OR-001.json 126.85\n",
      "42_PA-000.json 172.13\n",
      "42_PA-001.json 159.04\n",
      "42_PA-002.json 156.94\n",
      "42_PA-003.json 160.38\n",
      "42_PA-004.json 126.63\n",
      "44_RI-000.json 54.94\n",
      "45_SC-000.json 164.46\n",
      "45_SC-001.json 156.94\n",
      "45_SC-002.json 21.54\n",
      "46_SD-000.json 102.77\n",
      "47_TN-000.json 161.52\n",
      "47_TN-001.json 161.96\n",
      "47_TN-002.json 160.66\n",
      "48_TX-000.json 174.83\n",
      "48_TX-001.json 159.50\n",
      "48_TX-002.json 162.13\n",
      "48_TX-003.json 164.99\n",
      "48_TX-004.json 166.57\n",
      "48_TX-005.json 168.46\n",
      "48_TX-006.json 174.58\n",
      "48_TX-007.json 174.49\n",
      "48_TX-008.json 183.85\n",
      "48_TX-009.json 110.19\n",
      "49_UT-000.json 159.95\n",
      "50_VT-000.json 60.85\n",
      "51_VA-000.json 169.08\n",
      "51_VA-001.json 155.37\n",
      "51_VA-002.json 158.04\n",
      "51_VA-003.json 3.56\n",
      "53_WA-000.json 162.38\n",
      "53_WA-001.json 166.40\n",
      "53_WA-002.json 160.20\n",
      "54_WV-000.json 170.06\n",
      "54_WV-001.json 3.46\n",
      "55_WI-000.json 166.29\n",
      "55_WI-001.json 157.96\n",
      "55_WI-002.json 159.88\n",
      "55_WI-003.json 1.83\n",
      "56_WY-000.json 61.85\n"
     ]
    }
   ],
   "source": [
    "# for each geojson file, load it into the db\n",
    "for filename in os.listdir(split_files_folder):\n",
    "        \n",
    "    print(filename, end=' ')\n",
    "    start_time = time.time()\n",
    "    \n",
    "    filepath = '{}/{}'.format(split_files_folder, filename)\n",
    "    cmd = cmd_template.format(pg_db, pg_user, pg_pass, filepath, pg_table)\n",
    "    result = subprocess.run(cmd, shell=False)\n",
    "    \n",
    "    end_time = time.time() - start_time\n",
    "    print('{:.2f}'.format(end_time, end=' '))"
   ]
  },
  {
   "cell_type": "code",
   "execution_count": 8,
   "metadata": {},
   "outputs": [
    {
     "name": "stdout",
     "output_type": "stream",
     "text": [
      "Wall time: 57min 31s\n"
     ]
    }
   ],
   "source": [
    "%%time\n",
    "# optimize the db after all loaded and rebuild indexes\n",
    "cursor.execute('VACUUM(FULL, ANALYZE);')"
   ]
  },
  {
   "cell_type": "code",
   "execution_count": 9,
   "metadata": {},
   "outputs": [
    {
     "name": "stdout",
     "output_type": "stream",
     "text": [
      "122,608,100 rows\n"
     ]
    }
   ],
   "source": [
    "# how many files now in the table?\n",
    "cursor.execute(\"SELECT count(*) AS exact_count FROM {};\".format(pg_table))\n",
    "rows = cursor.fetchall()\n",
    "print('{:,.0f} rows'.format(rows[0][0]))"
   ]
  },
  {
   "cell_type": "code",
   "execution_count": 10,
   "metadata": {},
   "outputs": [],
   "source": [
    "cursor.close()\n",
    "connection.close()"
   ]
  },
  {
   "cell_type": "code",
   "execution_count": null,
   "metadata": {},
   "outputs": [],
   "source": []
  }
 ],
 "metadata": {
  "kernelspec": {
   "display_name": "Python 3",
   "language": "python",
   "name": "python3"
  },
  "language_info": {
   "codemirror_mode": {
    "name": "ipython",
    "version": 3
   },
   "file_extension": ".py",
   "mimetype": "text/x-python",
   "name": "python",
   "nbconvert_exporter": "python",
   "pygments_lexer": "ipython3",
   "version": "3.6.5"
  }
 },
 "nbformat": 4,
 "nbformat_minor": 2
}
